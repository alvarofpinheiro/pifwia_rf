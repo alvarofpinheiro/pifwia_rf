{
  "nbformat": 4,
  "nbformat_minor": 0,
  "metadata": {
    "colab": {
      "name": "PIFWIA_RF.ipynb",
      "provenance": [],
      "collapsed_sections": [],
      "include_colab_link": true
    },
    "kernelspec": {
      "name": "python3",
      "display_name": "Python 3"
    }
  },
  "cells": [
    {
      "cell_type": "markdown",
      "metadata": {
        "id": "view-in-github",
        "colab_type": "text"
      },
      "source": [
        "<a href=\"https://colab.research.google.com/github/alvarofpinheiro/pifwia_rf/blob/main/PIFWIA_RF.ipynb\" target=\"_parent\"><img src=\"https://colab.research.google.com/assets/colab-badge.svg\" alt=\"Open In Colab\"/></a>"
      ]
    },
    {
      "cell_type": "markdown",
      "source": [
        "Florestas aleatórias ou florestas de decisão aleatória são um método de aprendizado para classificação e regressão que constroem uma infinidade de árvores de decisão no treinamento. Para tarefas de classificação, a saída da floresta aleatória é a classe selecionada pela maioria das árvores. Para de regressão, a previsão média ou média das árvores individuais é retornada. As florestas de decisão não sobreajustam o conjunto de treinamento como as árvores de decisão fazem.\n",
        "\n",
        "Ho, T.K. Random Decision Forests. Proceedings of the 3rd International Conference on Document Analysis and Recognition, Montreal. https://doi.org/10.4236/blr.2019.104046, 1995."
      ],
      "metadata": {
        "id": "Vd7VruazC9Ek"
      }
    },
    {
      "cell_type": "code",
      "metadata": {
        "id": "0P6tBY50QOHR"
      },
      "source": [
        "#instalar biblioteca Orange Canvas\n",
        "!pip install Orange3"
      ],
      "execution_count": null,
      "outputs": []
    },
    {
      "cell_type": "code",
      "source": [
        "#importar biblioteca Orange Canvas\n",
        "import Orange"
      ],
      "metadata": {
        "id": "1MF20XTJ_Aa_"
      },
      "execution_count": null,
      "outputs": []
    },
    {
      "cell_type": "code",
      "source": [
        "#importar dados do disco local\n",
        "from google.colab import files  \n",
        "files.upload()"
      ],
      "metadata": {
        "id": "Ygu12JE_Afct"
      },
      "execution_count": null,
      "outputs": []
    },
    {
      "cell_type": "code",
      "source": [
        "#instanciar objeto de dados com base no caminho gerado com a importação do arquivo\n",
        "dados = Orange.data.Table(\"/content/Simulacao-1.csv\")"
      ],
      "metadata": {
        "id": "Uid5eSz5Fiwi"
      },
      "execution_count": null,
      "outputs": []
    },
    {
      "cell_type": "code",
      "source": [
        "#imprimir os primeiros 5 registros\n",
        "for d in dados[:5]:\n",
        "  print(d)"
      ],
      "metadata": {
        "id": "ar06vvffknDu"
      },
      "execution_count": null,
      "outputs": []
    },
    {
      "cell_type": "code",
      "source": [
        "#explorar os metadados\n",
        "qtde_campos = len(dados.domain.attributes)\n",
        "qtde_cont = sum(1 for a in dados.domain.attributes if a.is_continuous)\n",
        "qtde_disc = sum(1 for a in dados.domain.attributes if a.is_discrete)\n",
        "print(\"%d metadados: %d continuos, %d discretos\" % (qtde_campos, qtde_cont, qtde_disc))\n",
        "print(\"Nome dos metadados:\", \", \".join(dados.domain.attributes[i].name for i in range(qtde_campos)),)"
      ],
      "metadata": {
        "id": "H5nbZkd6rDHS"
      },
      "execution_count": null,
      "outputs": []
    },
    {
      "cell_type": "code",
      "source": [
        "#explorar domínios\n",
        "dados.domain.attributes"
      ],
      "metadata": {
        "id": "J5VmTPgks2w5"
      },
      "execution_count": null,
      "outputs": []
    },
    {
      "cell_type": "code",
      "source": [
        "#explorar classe\n",
        "dados.domain.class_var"
      ],
      "metadata": {
        "id": "I3P5bR1Bts-m"
      },
      "execution_count": null,
      "outputs": []
    },
    {
      "cell_type": "code",
      "source": [
        "#explorar dados\n",
        "print(\"Campos:\", \", \".join(c.name for c in dados.domain.attributes))\n",
        "print(\"Registros:\", len(dados))\n",
        "print(\"Valor do registro 1 da coluna 1:\", dados[0][0])\n",
        "print(\"Valor do registro 2 da coluna 2:\", dados[1][1])"
      ],
      "metadata": {
        "id": "g36bj2VTuNXm"
      },
      "execution_count": null,
      "outputs": []
    },
    {
      "cell_type": "code",
      "source": [
        "#criar amostra\n",
        "qtde100 = len(dados)\n",
        "qtde70 = len(dados) * 70 / 100\n",
        "qtde30 = len(dados) * 30 / 100\n",
        "print(\"Qtde 100%:\", qtde100)\n",
        "print(\"Qtde  70%:\", qtde70)\n",
        "print(\"Qtde  30%:\", qtde30)\n",
        "amostra = Orange.data.Table(dados.domain, [d for d in dados if d.row_index < qtde70])\n",
        "print(\"Registros:\", len(dados))\n",
        "print(\"Registros:\", len(amostra))"
      ],
      "metadata": {
        "id": "Ds75Qk7vusPK"
      },
      "execution_count": null,
      "outputs": []
    },
    {
      "cell_type": "code",
      "source": [
        "#Técnica Random Forest (RF)\n",
        "rf = Orange.classification.RandomForestLearner(\n",
        "    n_estimators=10, \n",
        "    criterion='gini', \n",
        "    max_depth=None, \n",
        "    min_samples_split=2, \n",
        "    min_samples_leaf=1, \n",
        "    min_weight_fraction_leaf=0.0, \n",
        "    max_features='auto', \n",
        "    max_leaf_nodes=None, \n",
        "    bootstrap=True, \n",
        "    oob_score=False, \n",
        "    n_jobs=1, \n",
        "    random_state=None, \n",
        "    verbose=0, \n",
        "    class_weight=None, \n",
        "    preprocessors=None)"
      ],
      "metadata": {
        "id": "SoraOTn4KKkp"
      },
      "execution_count": null,
      "outputs": []
    },
    {
      "cell_type": "code",
      "source": [
        "#ligar técnica RF aos dados\n",
        "dados_rf = rf(dados)"
      ],
      "metadata": {
        "id": "VWRbVdmEK_CT"
      },
      "execution_count": null,
      "outputs": []
    },
    {
      "cell_type": "code",
      "source": [
        "#treinar e testar técnica RF com os dados\n",
        "avalia_rf = Orange.evaluation.CrossValidation(dados, [rf], k=5)"
      ],
      "metadata": {
        "id": "vILOIZXJSwKA"
      },
      "execution_count": null,
      "outputs": []
    },
    {
      "cell_type": "code",
      "source": [
        "#avaliar os indicadores para o RF\n",
        "print(\"Acurácia:  %.3f\" % Orange.evaluation.scoring.CA(avalia_rf)[0])\n",
        "print(\"Precisão:  %.3f\" % Orange.evaluation.scoring.Precision(avalia_rf)[0])\n",
        "print(\"Revocação: %.3f\" % Orange.evaluation.scoring.Recall(avalia_rf)[0])\n",
        "print(\"F1:        %.3f\" % Orange.evaluation.scoring.F1(avalia_rf)[0])\n",
        "print(\"ROC:       %.3f\" % Orange.evaluation.scoring.AUC(avalia_rf)[0])"
      ],
      "metadata": {
        "id": "_6tpW957S0O9"
      },
      "execution_count": null,
      "outputs": []
    },
    {
      "cell_type": "code",
      "source": [
        "#Ténica k-Nearest Neighbors\n",
        "knn = Orange.classification.KNNLearner(\n",
        "    n_neighbors=5, \n",
        "    metric='euclidean', \n",
        "    weights='distance', \n",
        "    algorithm='auto', \n",
        "    metric_params=None, \n",
        "    preprocessors=None)"
      ],
      "metadata": {
        "id": "8MtQFD6qMfdH"
      },
      "execution_count": null,
      "outputs": []
    },
    {
      "cell_type": "code",
      "source": [
        "#ligar técnica KNN aos dados\n",
        "dados_knn = knn(dados)"
      ],
      "metadata": {
        "id": "rfVCP87RNHVx"
      },
      "execution_count": null,
      "outputs": []
    },
    {
      "cell_type": "code",
      "source": [
        "#treinar e testar técnica KNN com os dados\n",
        "avalia_knn = Orange.evaluation.CrossValidation(dados, [knn], k=10)"
      ],
      "metadata": {
        "id": "nUyH3ETQNyjC"
      },
      "execution_count": null,
      "outputs": []
    },
    {
      "cell_type": "code",
      "source": [
        "#avaliar os indicadores para o KNN\n",
        "print(\"Acurácia:  %.3f\" % Orange.evaluation.scoring.CA(avalia_knn)[0])\n",
        "print(\"Precisão:  %.3f\" % Orange.evaluation.scoring.Precision(avalia_knn)[0])\n",
        "print(\"Revocação: %.3f\" % Orange.evaluation.scoring.Recall(avalia_knn)[0])\n",
        "print(\"F1:        %.3f\" % Orange.evaluation.scoring.F1(avalia_knn)[0])\n",
        "print(\"ROC:       %.3f\" % Orange.evaluation.scoring.AUC(avalia_knn)[0])"
      ],
      "metadata": {
        "id": "qwRm_jpNO7kg"
      },
      "execution_count": null,
      "outputs": []
    },
    {
      "cell_type": "code",
      "source": [
        "#Técnica Support Vector Machine (SVM)\n",
        "svm = Orange.classification.SVMLearner(\n",
        "    C=1.0, \n",
        "    kernel='rbf', \n",
        "    degree=3, \n",
        "    gamma='auto', \n",
        "    coef0=0.0, \n",
        "    shrinking=True, \n",
        "    probability=False, \n",
        "    tol=0.001, \n",
        "    cache_size=200, \n",
        "    max_iter=-1, \n",
        "    preprocessors=None)"
      ],
      "metadata": {
        "id": "RbAJ44FgLM00"
      },
      "execution_count": null,
      "outputs": []
    },
    {
      "cell_type": "code",
      "source": [
        "#ligar técnica SVM aos dados\n",
        "dados_svm = svm(dados)"
      ],
      "metadata": {
        "id": "bmlBAnbmMKd-"
      },
      "execution_count": null,
      "outputs": []
    },
    {
      "cell_type": "code",
      "source": [
        "#treinar e testar técnica SVM com os dados\n",
        "avalia_svm = Orange.evaluation.CrossValidation(dados, [svm], k=5)"
      ],
      "metadata": {
        "id": "_vNTaCAHS5bk"
      },
      "execution_count": null,
      "outputs": []
    },
    {
      "cell_type": "code",
      "source": [
        "#avaliar os indicadores para o SVM\n",
        "print(\"Acurácia:  %.3f\" % Orange.evaluation.scoring.CA(avalia_svm)[0])\n",
        "print(\"Precisão:  %.3f\" % Orange.evaluation.scoring.Precision(avalia_svm)[0])\n",
        "print(\"Revocação: %.3f\" % Orange.evaluation.scoring.Recall(avalia_svm)[0])\n",
        "print(\"F1:        %.3f\" % Orange.evaluation.scoring.F1(avalia_svm)[0])\n",
        "print(\"ROC:       %.3f\" % Orange.evaluation.scoring.AUC(avalia_svm)[0])"
      ],
      "metadata": {
        "id": "dtxG4yrDTAtv"
      },
      "execution_count": null,
      "outputs": []
    },
    {
      "cell_type": "code",
      "source": [
        "#validar probabilidade para o alvo para as 3 técnicas\n",
        "import random\n",
        "random.seed(42)\n",
        "testa = Orange.data.Table(dados.domain, random.sample(dados, 5))\n",
        "treina = Orange.data.Table(dados.domain, [d for d in dados if d not in testa])\n",
        "aprende = [rf, knn, svm]\n",
        "classifica = [learner(treina) for learner in aprende]"
      ],
      "metadata": {
        "id": "7MpyNNcOWgJ9"
      },
      "execution_count": null,
      "outputs": []
    },
    {
      "cell_type": "code",
      "source": [
        "#imprimir a probabilidade para primeiro domínio da classe\n",
        "\n",
        "alvo = 0\n",
        "print(\"Probabilidade para %s:\" % dados.domain.class_var.values[alvo])\n",
        "print(\"Classe Alvo |\", \" | \".join(\"%-5s\" % l.name for l in classifica))\n",
        "\n",
        "c_valores = dados.domain.class_var.values\n",
        "for d in testa:\n",
        "    print(\n",
        "        (\"{:<15} \" + \" | {:.2f}\" * len(classifica)).format(\n",
        "            c_valores[int(d.get_class())], *(c(d, 1)[alvo] for c in classifica)\n",
        "        )\n",
        "    )"
      ],
      "metadata": {
        "id": "VG8Wm2ffee0_"
      },
      "execution_count": null,
      "outputs": []
    },
    {
      "cell_type": "code",
      "source": [
        "#imprimir a probabilidade para segundo domínio da classe\n",
        "\n",
        "alvo = 1\n",
        "print(\"Probabilidade para %s:\" % dados.domain.class_var.values[alvo])\n",
        "print(\"Classe Alvo |\", \" | \".join(\"%-5s\" % l.name for l in classifica))\n",
        "\n",
        "c_valores = dados.domain.class_var.values\n",
        "for d in testa:\n",
        "    print(\n",
        "        (\"{:<15} \" + \" | {:.2f}\" * len(classifica)).format(\n",
        "            c_valores[int(d.get_class())], *(c(d, 1)[alvo] for c in classifica)\n",
        "        )\n",
        "    )"
      ],
      "metadata": {
        "id": "W3NOvrvvzojr"
      },
      "execution_count": null,
      "outputs": []
    },
    {
      "cell_type": "code",
      "source": [
        "#validar o aprendizado para as 3 técnicas\n",
        "aprendizado = [rf, svm, knn]\n",
        "avaliacao = Orange.evaluation.CrossValidation(dados, aprendizado, k=5)"
      ],
      "metadata": {
        "id": "ihR-hUDCazin"
      },
      "execution_count": null,
      "outputs": []
    },
    {
      "cell_type": "code",
      "source": [
        "#imprimir os indicadores para as 3 técnicas\n",
        "print(\" \" * 10 + \" | \".join(\"%-4s\" % learner.name for learner in aprendizado))\n",
        "print(\"Acurácia  %s\" % \" | \".join(\"%.2f\" % s for s in Orange.evaluation.CA(avaliacao)))\n",
        "print(\"Precisão  %s\" % \" | \".join(\"%.2f\" % s for s in Orange.evaluation.Precision(avaliacao)))\n",
        "print(\"Revocação %s\" % \" | \".join(\"%.2f\" % s for s in Orange.evaluation.Recall(avaliacao)))\n",
        "print(\"F1        %s\" % \" | \".join(\"%.2f\" % s for s in Orange.evaluation.F1(avaliacao)))\n",
        "print(\"ROC       %s\" % \" | \".join(\"%.2f\" % s for s in Orange.evaluation.AUC(avaliacao)))"
      ],
      "metadata": {
        "id": "MQn6ppBIfamY"
      },
      "execution_count": null,
      "outputs": []
    }
  ]
}